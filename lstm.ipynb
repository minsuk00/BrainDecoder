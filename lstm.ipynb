{
 "cells": [
  {
   "cell_type": "code",
   "execution_count": 2,
   "metadata": {},
   "outputs": [
    {
     "name": "stdout",
     "output_type": "stream",
     "text": [
      "True\n",
      "True\n"
     ]
    }
   ],
   "source": [
    "import torch\n",
    "\n",
    "print(torch.backends.mps.is_available()) #the MacOS is higher than 12.3+\n",
    "print(torch.backends.mps.is_built()) #MPS is activated"
   ]
  },
  {
   "cell_type": "code",
   "execution_count": 3,
   "metadata": {},
   "outputs": [],
   "source": [
    "import torch\n",
    "import torch.nn as nn\n",
    "import torch.nn.functional as F\n",
    "from torch.optim import Adam\n",
    "\n",
    "import lightning as L\n",
    "from torch.utils.data import TensorDataset, DataLoader"
   ]
  },
  {
   "cell_type": "code",
   "execution_count": 18,
   "metadata": {},
   "outputs": [],
   "source": [
    "class LSTM(L.LightningModule):\n",
    "    def __init__(self):\n",
    "        super().__init__()\n",
    "        \n",
    "        mean = torch.tensor(0.0)\n",
    "        std = torch.tensor(1.0)\n",
    "        \n",
    "        self.wlr1 = nn.Parameter(torch.normal(mean=mean,std=std),requires_grad=True)\n",
    "        self.wlr2 = nn.Parameter(torch.normal(mean=mean,std=std),requires_grad=True)\n",
    "        self.blr1 = nn.Parameter(torch.tensor(0.),requires_grad=True)\n",
    "        \n",
    "        self.wpr1 = nn.Parameter(torch.normal(mean=mean,std=std),requires_grad=True)\n",
    "        self.wpr2 = nn.Parameter(torch.normal(mean=mean,std=std),requires_grad=True)\n",
    "        self.bpr1 = nn.Parameter(torch.tensor(0.),requires_grad=True)\n",
    "        \n",
    "        self.wp1 = nn.Parameter(torch.normal(mean=mean,std=std),requires_grad=True)\n",
    "        self.wp2 = nn.Parameter(torch.normal(mean=mean,std=std),requires_grad=True)\n",
    "        self.bp1 = nn.Parameter(torch.tensor(0.),requires_grad=True)\n",
    "        \n",
    "        self.wo1 = nn.Parameter(torch.normal(mean=mean,std=std),requires_grad=True)\n",
    "        self.wo2 = nn.Parameter(torch.normal(mean=mean,std=std),requires_grad=True)\n",
    "        self.bo1 = nn.Parameter(torch.tensor(0.),requires_grad=True)\n",
    "    \n",
    "    def lstm_unit(self,input_value,long_memory,short_memory):\n",
    "        long_remember_percent = torch.sigmoid((short_memory*self.wlr1)+(input_value*self.wpr2)+self.blr1)\n",
    "        potential_remember_percent = torch.sigmoid((short_memory*self.wpr1)+(input_value*self.wpr2)+self.bpr1)\n",
    "        potential_memory = torch.tanh((short_memory*self.wp1) + (input_value *self.wp2)+self.bp1)\n",
    "        updated_long_memory = ((long_memory*long_remember_percent)+(potential_remember_percent*potential_memory))\n",
    "        output_percent = torch.sigmoid((short_memory*self.wo1)+input_value*self.wo2+self.bo1)\n",
    "        updated_short_memory = torch.tanh(updated_long_memory)*output_percent\n",
    "        \n",
    "        return ([updated_long_memory,updated_short_memory])\n",
    "        \n",
    "    def forward(self,input):\n",
    "        long_memory = 0\n",
    "        short_memory = 0\n",
    "        day1 = input[0]\n",
    "        day2 = input[1]\n",
    "        day3 = input[2]\n",
    "        day4 = input[3]\n",
    "        \n",
    "        long_memory,short_memory = self.lstm_unit(day1,long_memory,short_memory)\n",
    "        long_memory,short_memory = self.lstm_unit(day2,long_memory,short_memory)\n",
    "        long_memory,short_memory = self.lstm_unit(day3,long_memory,short_memory)\n",
    "        long_memory,short_memory = self.lstm_unit(day4,long_memory,short_memory)\n",
    "        \n",
    "        return short_memory\n",
    "        \n",
    "    def configure_optimizers(self):\n",
    "        return Adam(self.parameters(),lr=0.1)\n",
    "    \n",
    "    def training_step(self,batch,batch_idx):\n",
    "        input_i,label_i = batch\n",
    "        output_i = self.forward(input_i[0])\n",
    "        loss = (output_i-label_i)**2\n",
    "        \n",
    "        self.log(\"train_loss\",loss)\n",
    "        \n",
    "        if (label_i == 0):\n",
    "            self.log(\"out_0\",output_i)\n",
    "        else:\n",
    "            self.log(\"out_1\",output_i)\n",
    "            \n",
    "        return loss\n",
    "    "
   ]
  },
  {
   "cell_type": "code",
   "execution_count": 19,
   "metadata": {},
   "outputs": [
    {
     "name": "stdout",
     "output_type": "stream",
     "text": [
      "\\Compare observed and predicted values\n",
      "Company A: Observed = 0, Predicted: tensor(-0.4742)\n",
      "Company B: Observed = 1, Predicted = tensor(-0.5620)\n"
     ]
    }
   ],
   "source": [
    "model = LSTM()\n",
    "\n",
    "def predict(model):\n",
    "    print(\"\\Compare observed and predicted values\")\n",
    "    print(\"Company A: Observed = 0, Predicted:\", model(torch.tensor([0,0.5,0.25,1])).detach())\n",
    "\n",
    "    print(\"Company B: Observed = 1, Predicted =\",model(torch.tensor([1,0.5,0.25,1])).detach())\n",
    "    \n",
    "predict(model)"
   ]
  },
  {
   "cell_type": "code",
   "execution_count": 20,
   "metadata": {},
   "outputs": [],
   "source": [
    "inputs = torch.tensor([[0,0.5,0.25,1],[1,0.5,0.25,1]])\n",
    "labels = torch.tensor([0,1])\n",
    "\n",
    "dataset = TensorDataset(inputs,labels)\n",
    "dataloader = DataLoader(dataset)"
   ]
  },
  {
   "cell_type": "code",
   "execution_count": 22,
   "metadata": {},
   "outputs": [
    {
     "name": "stderr",
     "output_type": "stream",
     "text": [
      "GPU available: True (mps), used: True\n",
      "TPU available: False, using: 0 TPU cores\n",
      "IPU available: False, using: 0 IPUs\n",
      "HPU available: False, using: 0 HPUs\n",
      "\n",
      "  | Name         | Type | Params\n",
      "--------------------------------------\n",
      "  | other params | n/a  | 12    \n",
      "--------------------------------------\n",
      "12        Trainable params\n",
      "0         Non-trainable params\n",
      "12        Total params\n",
      "0.000     Total estimated model params size (MB)\n",
      "/Users/ms/anaconda3/envs/neuroimagen/lib/python3.10/site-packages/lightning/pytorch/trainer/connectors/data_connector.py:441: The 'train_dataloader' does not have many workers which may be a bottleneck. Consider increasing the value of the `num_workers` argument` to `num_workers=7` in the `DataLoader` to improve performance.\n",
      "/Users/ms/anaconda3/envs/neuroimagen/lib/python3.10/site-packages/lightning/pytorch/loops/fit_loop.py:293: The number of training batches (2) is smaller than the logging interval Trainer(log_every_n_steps=50). Set a lower value for log_every_n_steps if you want to see logs for the training epoch.\n"
     ]
    },
    {
     "name": "stdout",
     "output_type": "stream",
     "text": [
      "Epoch 299: 100%|██████████| 2/2 [00:00<00:00, 60.54it/s, v_num=12]"
     ]
    },
    {
     "name": "stderr",
     "output_type": "stream",
     "text": [
      "`Trainer.fit` stopped: `max_epochs=300` reached.\n"
     ]
    },
    {
     "name": "stdout",
     "output_type": "stream",
     "text": [
      "Epoch 299: 100%|██████████| 2/2 [00:00<00:00, 49.59it/s, v_num=12]\n"
     ]
    }
   ],
   "source": [
    "trainer = L.Trainer(max_epochs=300)\n",
    "trainer.fit(model,train_dataloaders=dataloader)"
   ]
  },
  {
   "cell_type": "code",
   "execution_count": 23,
   "metadata": {},
   "outputs": [
    {
     "name": "stdout",
     "output_type": "stream",
     "text": [
      "\\Compare observed and predicted values\n",
      "Company A: Observed = 0, Predicted: tensor(0.0007)\n",
      "Company B: Observed = 1, Predicted = tensor(0.9851)\n"
     ]
    }
   ],
   "source": [
    "predict(model)"
   ]
  },
  {
   "cell_type": "code",
   "execution_count": 9,
   "metadata": {},
   "outputs": [
    {
     "name": "stderr",
     "output_type": "stream",
     "text": [
      "GPU available: True (mps), used: True\n",
      "TPU available: False, using: 0 TPU cores\n",
      "IPU available: False, using: 0 IPUs\n",
      "HPU available: False, using: 0 HPUs\n"
     ]
    }
   ],
   "source": [
    "path_to_best_checkpoint = trainer.checkpoint_callback.best_model_path\n",
    "\n",
    "trainer = L.Trainer(max_epochs=5000)\n",
    "# trainer.fit(model,train_dataloaders=dataloader,ckpt_path=path_to_best_checkpoint)"
   ]
  },
  {
   "cell_type": "code",
   "execution_count": 10,
   "metadata": {},
   "outputs": [
    {
     "name": "stdout",
     "output_type": "stream",
     "text": [
      "\\Compare observed and predicted values\n",
      "Company A: Observed = 0, Predicted: tensor(0.2347)\n",
      "Company B: Observed = 1, Predicted = tensor(0.2824)\n"
     ]
    }
   ],
   "source": [
    "predict(model)"
   ]
  },
  {
   "cell_type": "code",
   "execution_count": 11,
   "metadata": {},
   "outputs": [],
   "source": [
    "from lightning.pytorch.utilities.types import OptimizerLRScheduler\n",
    "\n",
    "\n",
    "class LightningLSTM(L.LightningModule):\n",
    "    def __init__(self):\n",
    "        super().__init__()\n",
    "        # input = number of features / variables => company stock value\n",
    "        # hidden = number of output\n",
    "        self.lstm = nn.LSTM(input_size=1,hidden_size=1)\n",
    "        \n",
    "    def forward(self, input):\n",
    "        # transpose the input to column\n",
    "        input_trans = input.view(len(input),1)\n",
    "        \n",
    "        # lstm_out contains short-term memory values of each LSTM unit\n",
    "        lstm_out, temp = self.lstm(input_trans)\n",
    "        \n",
    "        # get last short-term memory value\n",
    "        prediction = lstm_out[-1]\n",
    "        return prediction\n",
    "    \n",
    "    def configure_optimizers(self) :\n",
    "        return Adam(self.parameters(),lr=0.1)\n",
    "    \n",
    "    def training_step(self, batch, batch_idx):\n",
    "        input_i, label_i = batch\n",
    "        output_i = self.forward(input_i[0])\n",
    "        loss = (output_i-label_i)**2\n",
    "        \n",
    "        self.log(\"train_loss\",loss)\n",
    "        \n",
    "        if (label_i == 0):\n",
    "            self.log(\"out_0\",output_i)\n",
    "        else:\n",
    "            self.log(\"out_1\",output_i)\n",
    "            \n",
    "        return loss"
   ]
  },
  {
   "cell_type": "code",
   "execution_count": 14,
   "metadata": {},
   "outputs": [
    {
     "name": "stdout",
     "output_type": "stream",
     "text": [
      "\\Compare observed and predicted values\n",
      "Company A: Observed = 0, Predicted: tensor([0.2397])\n",
      "Company B: Observed = 1, Predicted = tensor([0.2169])\n"
     ]
    }
   ],
   "source": [
    "model = LightningLSTM()\n",
    "\n",
    "predict(model)"
   ]
  },
  {
   "cell_type": "code",
   "execution_count": 15,
   "metadata": {},
   "outputs": [
    {
     "name": "stderr",
     "output_type": "stream",
     "text": [
      "GPU available: True (mps), used: True\n",
      "TPU available: False, using: 0 TPU cores\n",
      "IPU available: False, using: 0 IPUs\n",
      "HPU available: False, using: 0 HPUs\n",
      "\n",
      "  | Name | Type | Params\n",
      "------------------------------\n",
      "0 | lstm | LSTM | 16    \n",
      "------------------------------\n",
      "16        Trainable params\n",
      "0         Non-trainable params\n",
      "16        Total params\n",
      "0.000     Total estimated model params size (MB)\n",
      "/Users/ms/anaconda3/envs/neuroimagen/lib/python3.10/site-packages/lightning/pytorch/trainer/connectors/data_connector.py:441: The 'train_dataloader' does not have many workers which may be a bottleneck. Consider increasing the value of the `num_workers` argument` to `num_workers=7` in the `DataLoader` to improve performance.\n"
     ]
    },
    {
     "name": "stdout",
     "output_type": "stream",
     "text": [
      "Epoch 299: 100%|██████████| 2/2 [00:00<00:00, 176.81it/s, v_num=11]"
     ]
    },
    {
     "name": "stderr",
     "output_type": "stream",
     "text": [
      "`Trainer.fit` stopped: `max_epochs=300` reached.\n"
     ]
    },
    {
     "name": "stdout",
     "output_type": "stream",
     "text": [
      "Epoch 299: 100%|██████████| 2/2 [00:00<00:00, 134.55it/s, v_num=11]\n"
     ]
    }
   ],
   "source": [
    "trainer = L.Trainer(max_epochs=300,log_every_n_steps=2)\n",
    "trainer.fit(model,train_dataloaders=dataloader)"
   ]
  },
  {
   "cell_type": "code",
   "execution_count": 17,
   "metadata": {},
   "outputs": [
    {
     "name": "stdout",
     "output_type": "stream",
     "text": [
      "\\Compare observed and predicted values\n",
      "Company A: Observed = 0, Predicted: tensor([0.0001])\n",
      "Company B: Observed = 1, Predicted = tensor([0.9850])\n"
     ]
    }
   ],
   "source": [
    "predict(model)"
   ]
  },
  {
   "cell_type": "code",
   "execution_count": null,
   "metadata": {},
   "outputs": [],
   "source": []
  }
 ],
 "metadata": {
  "kernelspec": {
   "display_name": "neuroimagen",
   "language": "python",
   "name": "python3"
  },
  "language_info": {
   "codemirror_mode": {
    "name": "ipython",
    "version": 3
   },
   "file_extension": ".py",
   "mimetype": "text/x-python",
   "name": "python",
   "nbconvert_exporter": "python",
   "pygments_lexer": "ipython3",
   "version": "3.10.13"
  }
 },
 "nbformat": 4,
 "nbformat_minor": 2
}
