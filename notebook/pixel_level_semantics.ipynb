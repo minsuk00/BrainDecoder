{
 "cells": [
  {
   "cell_type": "markdown",
   "metadata": {},
   "source": [
    "# Import\n"
   ]
  },
  {
   "cell_type": "code",
   "execution_count": 28,
   "metadata": {},
   "outputs": [],
   "source": [
    "import torch\n",
    "import torch.nn as nn\n",
    "import torch.optim as optim\n",
    "import torch.nn.functional as F\n",
    "from torch.utils.data import DataLoader\n",
    "\n",
    "\n",
    "import lightning as L\n",
    "from lightning.pytorch.callbacks import LearningRateMonitor\n",
    "from lightning.pytorch.loggers import TensorBoardLogger\n",
    "\n",
    "import sys\n",
    "import os\n",
    "import numpy as np\n",
    "import cv2\n",
    "\n",
    "sys.path.append(os.path.join(os.path.dirname(os.getcwd()), \"code\"))\n",
    "import dataset as D"
   ]
  },
  {
   "cell_type": "markdown",
   "metadata": {},
   "source": [
    "# Dataset\n"
   ]
  },
  {
   "cell_type": "code",
   "execution_count": 37,
   "metadata": {},
   "outputs": [],
   "source": [
    "dataset = D.EEGDataset(eeg_dataset_file_name=\"eeg_5_95_std.pth\")\n",
    "loaders = {\n",
    "    split: DataLoader(\n",
    "        D.Splitter(dataset, split_name=split),\n",
    "        batch_size=16,\n",
    "        shuffle=True,\n",
    "        drop_last=True,\n",
    "    )\n",
    "    for split in [\"train\", \"val\", \"test\"]\n",
    "}"
   ]
  },
  {
   "cell_type": "code",
   "execution_count": 32,
   "metadata": {},
   "outputs": [
    {
     "name": "stdout",
     "output_type": "stream",
     "text": [
      "(500, 375, 3)\n"
     ]
    }
   ],
   "source": [
    "img = cv2.imread(\n",
    "    \"/Users/ms/cs/ML/NeuroImagen/dataset/imageNet_images/n07753592/n07753592_847.JPEG\"\n",
    ")\n",
    "print(img.shape)"
   ]
  },
  {
   "cell_type": "markdown",
   "metadata": {},
   "source": [
    "# Model\n"
   ]
  },
  {
   "cell_type": "code",
   "execution_count": 53,
   "metadata": {},
   "outputs": [
    {
     "name": "stdout",
     "output_type": "stream",
     "text": [
      "mps\n"
     ]
    }
   ],
   "source": [
    "device = \"mps\" if torch.backends.mps.is_available() else \"cpu\"\n",
    "print(device)\n",
    "\n",
    "config = {}"
   ]
  },
  {
   "cell_type": "code",
   "execution_count": 50,
   "metadata": {},
   "outputs": [],
   "source": [
    "class FeatureExtractor_ContrastiveLearning_NN(L.LightningModule):\n",
    "    def __init__(self):\n",
    "        super().__init__()\n",
    "        self.save_hyperparameters()\n",
    "\n",
    "        # Triplet loss\n",
    "        # def dist_fn(x1, x2):\n",
    "        #     return torch.sum(torch.pow(torch.subtract(x1, x2), 2), dim=0)\n",
    "\n",
    "        # self.loss_fn = nn.TripletMarginWithDistanceLoss(\n",
    "        #     distance_function=dist_fn, margin=config[\"margin\"]\n",
    "        # )\n",
    "\n",
    "        # model\n",
    "        self.input_size = 128\n",
    "        self.hidden_size = 128\n",
    "        self.lstm_layers = 1\n",
    "        self.out_size = 128\n",
    "\n",
    "        self.lstm = nn.LSTM(\n",
    "            self.input_size,\n",
    "            self.hidden_size,\n",
    "            num_layers=self.lstm_layers,\n",
    "            batch_first=True,\n",
    "        )\n",
    "        self.output = nn.Sequential(\n",
    "            nn.Linear(in_features=self.hidden_size, out_features=self.out_size),\n",
    "            nn.ReLU(),\n",
    "        )\n",
    "\n",
    "    def forward(self, input):\n",
    "        input = input.to(device)\n",
    "\n",
    "        lstm_out, _ = self.lstm(input)\n",
    "        res = self.output(lstm_out[:, -1, :])\n",
    "        return res"
   ]
  },
  {
   "cell_type": "code",
   "execution_count": 51,
   "metadata": {},
   "outputs": [],
   "source": [
    "class Generator(nn.Module):\n",
    "    def __init__(self, latent_dim=100):\n",
    "        super().__init__()\n",
    "\n",
    "        def block(input_features, output_features, normalize=True):\n",
    "            layers = [nn.Linear(input_features, output_features)]\n",
    "            if normalize:\n",
    "                layers.append(nn.BatchNorm1d(output_features, 0.8))\n",
    "            layers.append(nn.LeakyReLU(0.2, inplace=True))\n",
    "            return layers\n",
    "\n",
    "        self.model = nn.Sequential(\n",
    "            *block(latent_dim + 128, 128, normalize=False),\n",
    "            *block(128, 256),\n",
    "            *block(256, 512),\n",
    "            *block(512, 1024),\n",
    "            nn.Linear(1024, int(np.prod(config[\"img_size\"]))),\n",
    "            nn.Tanh(),\n",
    "        )\n",
    "\n",
    "    def forward(self, noise, condition):\n",
    "        gen_input = torch.cat((condition, noise), -1)\n",
    "        img = self.model(gen_input)\n",
    "        img = img.view(img.size(0), *config[\"img_size\"])\n",
    "        return img"
   ]
  },
  {
   "cell_type": "code",
   "execution_count": 21,
   "metadata": {},
   "outputs": [],
   "source": [
    "class Discriminator(nn.Module):\n",
    "    def __init__(self):\n",
    "        super().__init__()\n",
    "\n",
    "        self.model = nn.Sequential(\n",
    "            nn.Linear(int(np.prod(config[\"img_size\"])) + 128, 512),\n",
    "            nn.LeakyReLU(0.2, inplace=True),\n",
    "            nn.Linear(512, 256),\n",
    "            nn.LeakyReLU(0.2, inplace=True),\n",
    "            nn.Linear(256, 1),\n",
    "            nn.Sigmoid(),\n",
    "        )\n",
    "\n",
    "    def forward(self, img, condition):\n",
    "        d_input = torch.cat(img.view(img.size(0), -1), condition, -1)\n",
    "        validity = self.model(d_input)\n",
    "        return validity"
   ]
  },
  {
   "cell_type": "code",
   "execution_count": 45,
   "metadata": {},
   "outputs": [],
   "source": [
    "class saliency_map_GAN(L.LightningModule):\n",
    "    def __init__(self):\n",
    "        super().__init__()\n",
    "        self.save_hyperparameters()\n",
    "\n",
    "        self.data_shape = (3, 32, 32)\n",
    "\n",
    "        self.generator = Generator()\n",
    "        self.discriminator = Discriminator()\n",
    "\n",
    "        self.feature_extractor = (\n",
    "            FeatureExtractor_ContrastiveLearning_NN.load_from_checkpoint(\n",
    "                config[\"checkpoint\"]\n",
    "            )\n",
    "        )\n",
    "        self.feature_extractor.requires_grad_(False)\n",
    "        self.loss_fn = self.adversarial_loss\n",
    "\n",
    "    def adversarial_loss(self, y_hat, y):\n",
    "        return F.binary_cross_entropy(y_hat, y)\n",
    "\n",
    "    def forward(self, noise, condition):\n",
    "        return self.generator(noise, condition)\n",
    "\n",
    "    def training_step(self, batch, _, optim_idx):\n",
    "        eegs, real_imgs = batch\n",
    "\n",
    "        batch_size = imgs.size(0)\n",
    "        noise = torch.randn(batch_size, 100)\n",
    "        noise = noise.to(device)\n",
    "        imgs = imgs.to(device)\n",
    "\n",
    "        eeg_features = self.feature_extractor(eegs)\n",
    "\n",
    "        # generator training\n",
    "        if optim_idx == 0:\n",
    "            gen_imgs = self.generator(noise, eeg_features)\n",
    "            y_hat = self.discriminator(gen_imgs, eeg_features)\n",
    "            y_real = torch.ones([batch_size, 1], device=device, requires_grad=False)\n",
    "            g_loss = self.loss_fn(y_hat, y_real)\n",
    "            return g_loss\n",
    "\n",
    "        # discriminator training\n",
    "        if optim_idx == 1:\n",
    "            y_hat = self.discriminator(real_imgs, eeg_features)\n",
    "            y_real = torch.ones([batch_size, 1], device=device, requires_grad=False)\n",
    "            d_loss_real = self.loss_fn(y_hat, y_real)\n",
    "\n",
    "            gen_imgs = self.generator(noise, eeg_features)\n",
    "            y_hat = self.discriminator(gen_imgs, y_fake)\n",
    "            y_fake = torch.zeros([batch_size, 1], device=device, requires_grad=False)\n",
    "            d_loss_fake = self.loss_fn(y_hat, y_fake)\n",
    "\n",
    "            d_loss = (d_loss_real + d_loss_fake) / 2\n",
    "            return d_loss\n",
    "\n",
    "    # def validation_step(self, batch):\n",
    "    #     return\n",
    "\n",
    "    def on_validation_epoch_end(self):\n",
    "        print(\"HI\")\n",
    "\n",
    "    def configure_optimizers(self):\n",
    "        g_optim = optim.Adam(self.generator.parameters(), lr=1e-3)\n",
    "        d_optim = optim.Adam(self.discriminator.parameters(), lr=1e-3)\n",
    "        return [g_optim, d_optim]"
   ]
  },
  {
   "cell_type": "markdown",
   "metadata": {},
   "source": [
    "# Training\n"
   ]
  },
  {
   "cell_type": "code",
   "execution_count": 46,
   "metadata": {},
   "outputs": [],
   "source": [
    "config = {\n",
    "    \"img-size\": (3, 256, 256),\n",
    "    \"checkpoint\": \"/Users/ms/cs/ML/NeuroImagen/lightning_logs/ContrastiveLossFeatureLearning/Adam_0.0001_LambdaLR_margin_1.5/weight-decay_0_lambda-factor_0.95/checkpoints/epoch=2-step=1491.ckpt\",\n",
    "}"
   ]
  },
  {
   "cell_type": "code",
   "execution_count": 47,
   "metadata": {},
   "outputs": [],
   "source": [
    "a = torch.load(config[\"checkpoint\"])"
   ]
  },
  {
   "cell_type": "code",
   "execution_count": 56,
   "metadata": {},
   "outputs": [
    {
     "ename": "KeyError",
     "evalue": "'img_size'",
     "output_type": "error",
     "traceback": [
      "\u001b[0;31m---------------------------------------------------------------------------\u001b[0m",
      "\u001b[0;31mKeyError\u001b[0m                                  Traceback (most recent call last)",
      "\u001b[1;32m/Users/ms/cs/ML/NeuroImagen/notebook/pixel_level_semantics.ipynb Cell 15\u001b[0m line \u001b[0;36m1\n\u001b[0;32m----> <a href='vscode-notebook-cell:/Users/ms/cs/ML/NeuroImagen/notebook/pixel_level_semantics.ipynb#X14sZmlsZQ%3D%3D?line=0'>1</a>\u001b[0m model \u001b[39m=\u001b[39m saliency_map_GAN()\n\u001b[1;32m      <a href='vscode-notebook-cell:/Users/ms/cs/ML/NeuroImagen/notebook/pixel_level_semantics.ipynb#X14sZmlsZQ%3D%3D?line=1'>2</a>\u001b[0m model\u001b[39m.\u001b[39mto(device)\n\u001b[1;32m      <a href='vscode-notebook-cell:/Users/ms/cs/ML/NeuroImagen/notebook/pixel_level_semantics.ipynb#X14sZmlsZQ%3D%3D?line=3'>4</a>\u001b[0m logger \u001b[39m=\u001b[39m TensorBoardLogger(\n\u001b[1;32m      <a href='vscode-notebook-cell:/Users/ms/cs/ML/NeuroImagen/notebook/pixel_level_semantics.ipynb#X14sZmlsZQ%3D%3D?line=4'>5</a>\u001b[0m     save_dir\u001b[39m=\u001b[39m\u001b[39m\"\u001b[39m\u001b[39m/Users/ms/cs/ML/NeuroImagen/lightning_logs/SaliencyMapGAN/\u001b[39m\u001b[39m\"\u001b[39m,\n\u001b[1;32m      <a href='vscode-notebook-cell:/Users/ms/cs/ML/NeuroImagen/notebook/pixel_level_semantics.ipynb#X14sZmlsZQ%3D%3D?line=5'>6</a>\u001b[0m     name\u001b[39m=\u001b[39m\u001b[39mf\u001b[39m\u001b[39m\"\u001b[39m\u001b[39m\"\u001b[39m,\n\u001b[1;32m      <a href='vscode-notebook-cell:/Users/ms/cs/ML/NeuroImagen/notebook/pixel_level_semantics.ipynb#X14sZmlsZQ%3D%3D?line=6'>7</a>\u001b[0m     version\u001b[39m=\u001b[39m\u001b[39mf\u001b[39m\u001b[39m\"\u001b[39m\u001b[39m\"\u001b[39m,\n\u001b[1;32m      <a href='vscode-notebook-cell:/Users/ms/cs/ML/NeuroImagen/notebook/pixel_level_semantics.ipynb#X14sZmlsZQ%3D%3D?line=7'>8</a>\u001b[0m )\n",
      "\u001b[1;32m/Users/ms/cs/ML/NeuroImagen/notebook/pixel_level_semantics.ipynb Cell 15\u001b[0m line \u001b[0;36m8\n\u001b[1;32m      <a href='vscode-notebook-cell:/Users/ms/cs/ML/NeuroImagen/notebook/pixel_level_semantics.ipynb#X14sZmlsZQ%3D%3D?line=3'>4</a>\u001b[0m \u001b[39mself\u001b[39m\u001b[39m.\u001b[39msave_hyperparameters()\n\u001b[1;32m      <a href='vscode-notebook-cell:/Users/ms/cs/ML/NeuroImagen/notebook/pixel_level_semantics.ipynb#X14sZmlsZQ%3D%3D?line=5'>6</a>\u001b[0m \u001b[39mself\u001b[39m\u001b[39m.\u001b[39mdata_shape \u001b[39m=\u001b[39m (\u001b[39m3\u001b[39m, \u001b[39m32\u001b[39m, \u001b[39m32\u001b[39m)\n\u001b[0;32m----> <a href='vscode-notebook-cell:/Users/ms/cs/ML/NeuroImagen/notebook/pixel_level_semantics.ipynb#X14sZmlsZQ%3D%3D?line=7'>8</a>\u001b[0m \u001b[39mself\u001b[39m\u001b[39m.\u001b[39mgenerator \u001b[39m=\u001b[39m Generator()\n\u001b[1;32m      <a href='vscode-notebook-cell:/Users/ms/cs/ML/NeuroImagen/notebook/pixel_level_semantics.ipynb#X14sZmlsZQ%3D%3D?line=8'>9</a>\u001b[0m \u001b[39mself\u001b[39m\u001b[39m.\u001b[39mdiscriminator \u001b[39m=\u001b[39m Discriminator()\n\u001b[1;32m     <a href='vscode-notebook-cell:/Users/ms/cs/ML/NeuroImagen/notebook/pixel_level_semantics.ipynb#X14sZmlsZQ%3D%3D?line=10'>11</a>\u001b[0m \u001b[39mself\u001b[39m\u001b[39m.\u001b[39mfeature_extractor \u001b[39m=\u001b[39m FeatureExtractor_ContrastiveLearning_NN\u001b[39m.\u001b[39mload_from_checkpoint(\n\u001b[1;32m     <a href='vscode-notebook-cell:/Users/ms/cs/ML/NeuroImagen/notebook/pixel_level_semantics.ipynb#X14sZmlsZQ%3D%3D?line=11'>12</a>\u001b[0m     config[\u001b[39m\"\u001b[39m\u001b[39mcheckpoint\u001b[39m\u001b[39m\"\u001b[39m]\n\u001b[1;32m     <a href='vscode-notebook-cell:/Users/ms/cs/ML/NeuroImagen/notebook/pixel_level_semantics.ipynb#X14sZmlsZQ%3D%3D?line=12'>13</a>\u001b[0m )\n",
      "\u001b[1;32m/Users/ms/cs/ML/NeuroImagen/notebook/pixel_level_semantics.ipynb Cell 15\u001b[0m line \u001b[0;36m1\n\u001b[1;32m      <a href='vscode-notebook-cell:/Users/ms/cs/ML/NeuroImagen/notebook/pixel_level_semantics.ipynb#X14sZmlsZQ%3D%3D?line=8'>9</a>\u001b[0m     layers\u001b[39m.\u001b[39mappend(nn\u001b[39m.\u001b[39mLeakyReLU(\u001b[39m0.2\u001b[39m, inplace\u001b[39m=\u001b[39m\u001b[39mTrue\u001b[39;00m))\n\u001b[1;32m     <a href='vscode-notebook-cell:/Users/ms/cs/ML/NeuroImagen/notebook/pixel_level_semantics.ipynb#X14sZmlsZQ%3D%3D?line=9'>10</a>\u001b[0m     \u001b[39mreturn\u001b[39;00m layers\n\u001b[1;32m     <a href='vscode-notebook-cell:/Users/ms/cs/ML/NeuroImagen/notebook/pixel_level_semantics.ipynb#X14sZmlsZQ%3D%3D?line=11'>12</a>\u001b[0m \u001b[39mself\u001b[39m\u001b[39m.\u001b[39mmodel \u001b[39m=\u001b[39m nn\u001b[39m.\u001b[39mSequential(\n\u001b[1;32m     <a href='vscode-notebook-cell:/Users/ms/cs/ML/NeuroImagen/notebook/pixel_level_semantics.ipynb#X14sZmlsZQ%3D%3D?line=12'>13</a>\u001b[0m     \u001b[39m*\u001b[39mblock(latent_dim \u001b[39m+\u001b[39m \u001b[39m128\u001b[39m, \u001b[39m128\u001b[39m, normalize\u001b[39m=\u001b[39m\u001b[39mFalse\u001b[39;00m),\n\u001b[1;32m     <a href='vscode-notebook-cell:/Users/ms/cs/ML/NeuroImagen/notebook/pixel_level_semantics.ipynb#X14sZmlsZQ%3D%3D?line=13'>14</a>\u001b[0m     \u001b[39m*\u001b[39mblock(\u001b[39m128\u001b[39m, \u001b[39m256\u001b[39m),\n\u001b[1;32m     <a href='vscode-notebook-cell:/Users/ms/cs/ML/NeuroImagen/notebook/pixel_level_semantics.ipynb#X14sZmlsZQ%3D%3D?line=14'>15</a>\u001b[0m     \u001b[39m*\u001b[39mblock(\u001b[39m256\u001b[39m, \u001b[39m512\u001b[39m),\n\u001b[1;32m     <a href='vscode-notebook-cell:/Users/ms/cs/ML/NeuroImagen/notebook/pixel_level_semantics.ipynb#X14sZmlsZQ%3D%3D?line=15'>16</a>\u001b[0m     \u001b[39m*\u001b[39mblock(\u001b[39m512\u001b[39m, \u001b[39m1024\u001b[39m),\n\u001b[0;32m---> <a href='vscode-notebook-cell:/Users/ms/cs/ML/NeuroImagen/notebook/pixel_level_semantics.ipynb#X14sZmlsZQ%3D%3D?line=16'>17</a>\u001b[0m     nn\u001b[39m.\u001b[39mLinear(\u001b[39m1024\u001b[39m, \u001b[39mint\u001b[39m(np\u001b[39m.\u001b[39mprod(config[\u001b[39m\"\u001b[39;49m\u001b[39mimg_size\u001b[39;49m\u001b[39m\"\u001b[39;49m]))),\n\u001b[1;32m     <a href='vscode-notebook-cell:/Users/ms/cs/ML/NeuroImagen/notebook/pixel_level_semantics.ipynb#X14sZmlsZQ%3D%3D?line=17'>18</a>\u001b[0m     nn\u001b[39m.\u001b[39mTanh(),\n\u001b[1;32m     <a href='vscode-notebook-cell:/Users/ms/cs/ML/NeuroImagen/notebook/pixel_level_semantics.ipynb#X14sZmlsZQ%3D%3D?line=18'>19</a>\u001b[0m )\n",
      "\u001b[0;31mKeyError\u001b[0m: 'img_size'"
     ]
    }
   ],
   "source": [
    "model = saliency_map_GAN()\n",
    "model.to(device)\n",
    "\n",
    "logger = TensorBoardLogger(\n",
    "    save_dir=\"/Users/ms/cs/ML/NeuroImagen/lightning_logs/SaliencyMapGAN/\",\n",
    "    name=f\"\",\n",
    "    version=f\"\",\n",
    ")\n",
    "lr_monitor = LearningRateMonitor(logging_interval=\"epoch\")\n",
    "\n",
    "trainer = L.Trainer(max_epochs=200, callbacks=[lr_monitor], logger=logger)\n",
    "# trainer.fit(model, train_dataloaders=loaders[\"train\"], val_dataloaders=loaders[\"val\"])"
   ]
  },
  {
   "cell_type": "markdown",
   "metadata": {},
   "source": [
    "# Testing\n"
   ]
  },
  {
   "cell_type": "code",
   "execution_count": 47,
   "metadata": {},
   "outputs": [],
   "source": [
    "# try output one image from one random eeg. show generated image, original image"
   ]
  },
  {
   "cell_type": "code",
   "execution_count": null,
   "metadata": {},
   "outputs": [],
   "source": []
  }
 ],
 "metadata": {
  "kernelspec": {
   "display_name": "neuroimagen",
   "language": "python",
   "name": "python3"
  },
  "language_info": {
   "codemirror_mode": {
    "name": "ipython",
    "version": 3
   },
   "file_extension": ".py",
   "mimetype": "text/x-python",
   "name": "python",
   "nbconvert_exporter": "python",
   "pygments_lexer": "ipython3",
   "version": "3.10.13"
  }
 },
 "nbformat": 4,
 "nbformat_minor": 2
}
