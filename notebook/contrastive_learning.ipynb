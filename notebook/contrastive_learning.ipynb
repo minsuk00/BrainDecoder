{
 "cells": [
  {
   "cell_type": "markdown",
   "metadata": {},
   "source": [
    "# Import\n"
   ]
  },
  {
   "cell_type": "code",
   "execution_count": 7,
   "metadata": {},
   "outputs": [],
   "source": [
    "import torch\n",
    "import torch.nn as nn\n",
    "import torch.functional as F\n",
    "import torch.optim as optim\n",
    "from torch.utils.data import DataLoader, Dataset\n",
    "\n",
    "import lightning as L\n",
    "from lightning.pytorch.callbacks import LearningRateMonitor\n",
    "from lightning.pytorch.loggers import TensorBoardLogger\n",
    "\n",
    "import os\n",
    "import numpy as np\n",
    "import random"
   ]
  },
  {
   "cell_type": "markdown",
   "metadata": {},
   "source": [
    "# Dataset\n"
   ]
  },
  {
   "cell_type": "code",
   "execution_count": 2,
   "metadata": {},
   "outputs": [],
   "source": [
    "root_path = \"\"\n",
    "dataset_path = os.path.join(root_path, \"dataset\")\n",
    "images_dataset_path = os.path.join(dataset_path, \"imageNet_images\")\n",
    "eeg_dataset_path = os.path.join(dataset_path, \"eeg\")"
   ]
  },
  {
   "cell_type": "code",
   "execution_count": 3,
   "metadata": {},
   "outputs": [],
   "source": [
    "class EEGDataset(Dataset):\n",
    "    def __init__(self, eeg_dataset_file_name=\"eeg_5_95_std.pth\") -> None:\n",
    "        super().__init__()\n",
    "        loaded = torch.load(os.path.join(eeg_dataset_path, eeg_dataset_file_name))\n",
    "        self.data = loaded[\"dataset\"]\n",
    "        self.labels = loaded[\"labels\"]\n",
    "        self.images = loaded[\"images\"]\n",
    "        self.size = len(self.data)\n",
    "\n",
    "    def __getitem__(self, idx):\n",
    "        # t() -> transpose\n",
    "        eeg = self.data[idx][\"eeg\"].t()\n",
    "        eeg = eeg[20:460, :]\n",
    "\n",
    "        label = self.data[idx][\"label\"]\n",
    "        return eeg, label\n",
    "\n",
    "    def __len__(self):\n",
    "        return self.size"
   ]
  },
  {
   "cell_type": "code",
   "execution_count": 154,
   "metadata": {},
   "outputs": [],
   "source": [
    "class Splitter(Dataset):\n",
    "    def __init__(self, dataset, split_name=\"train\") -> None:\n",
    "        super().__init__()\n",
    "        self.dataset = dataset\n",
    "\n",
    "        loaded = torch.load(\n",
    "            os.path.join(eeg_dataset_path, \"block_splits_by_image_all.pth\")\n",
    "        )\n",
    "        self.target_data_indices = loaded[\"splits\"][0][split_name]\n",
    "        # filter data that is too short\n",
    "        self.target_data_indices = [\n",
    "            i\n",
    "            for i in self.target_data_indices\n",
    "            if 450 <= self.dataset.data[i][\"eeg\"].size(1) <= 600\n",
    "        ]\n",
    "\n",
    "        self.size = len(self.target_data_indices)\n",
    "\n",
    "    def __getitem__(self, idx):\n",
    "        eeg, label = self.dataset[self.target_data_indices[idx]]\n",
    "        return eeg, label\n",
    "\n",
    "    def __len__(self):\n",
    "        return self.size\n",
    "\n",
    "    def get_data(self, anchor_label, positive: bool = True):\n",
    "        cnt = 0\n",
    "        while True:\n",
    "            idx = random.choice(self.target_data_indices)\n",
    "            if positive and self.dataset[idx][1] == anchor_label:\n",
    "                return self.dataset[idx]\n",
    "            if not positive and self.dataset[idx][1] != anchor_label:\n",
    "                return self.dataset[idx]\n",
    "\n",
    "            if cnt >= 2000:\n",
    "                raise Exception(f\"get_data failed after {cnt} tries\")\n",
    "            cnt += 1"
   ]
  },
  {
   "cell_type": "code",
   "execution_count": 155,
   "metadata": {},
   "outputs": [
    {
     "name": "stdout",
     "output_type": "stream",
     "text": [
      "                                                                   \r"
     ]
    }
   ],
   "source": [
    "dataset = EEGDataset(eeg_dataset_file_name=\"eeg_5_95_std.pth\")\n",
    "loaders = {\n",
    "    split: DataLoader(\n",
    "        Splitter(dataset, split_name=split), batch_size=16, shuffle=True, drop_last=True\n",
    "    )\n",
    "    for split in [\"train\", \"val\", \"test\"]\n",
    "}"
   ]
  },
  {
   "cell_type": "code",
   "execution_count": 115,
   "metadata": {},
   "outputs": [
    {
     "data": {
      "text/plain": [
       "tensor([[-0.0830, -0.7457,  0.4245,  ..., -0.2284, -0.0140, -0.1410],\n",
       "        [-0.0315, -0.6370,  0.4393,  ..., -0.1923, -0.0130, -0.1229],\n",
       "        [ 0.0618, -0.2970,  0.3519,  ..., -0.0813, -0.0087, -0.0606],\n",
       "        ...,\n",
       "        [-0.0645, -0.3959,  0.0364,  ..., -0.1979, -0.0108, -0.1059],\n",
       "        [-0.1561, -0.5401,  0.0734,  ..., -0.6856, -0.0345, -0.4248],\n",
       "        [-0.2323, -0.6257,  0.0955,  ..., -1.1021, -0.0545, -0.6819]])"
      ]
     },
     "execution_count": 115,
     "metadata": {},
     "output_type": "execute_result"
    }
   ],
   "source": [
    "loaders[\"val\"].dataset.get_data(3)[0]"
   ]
  },
  {
   "cell_type": "markdown",
   "metadata": {},
   "source": [
    "# Model\n"
   ]
  },
  {
   "cell_type": "code",
   "execution_count": 64,
   "metadata": {},
   "outputs": [],
   "source": [
    "device = \"mps\" if torch.backends.mps.is_available() else \"cpu\""
   ]
  },
  {
   "cell_type": "code",
   "execution_count": 172,
   "metadata": {},
   "outputs": [],
   "source": [
    "class FeatureExtractor_ContrastiveLearning_NN(L.LightningModule):\n",
    "    def __init__(self):\n",
    "        super().__init__()\n",
    "\n",
    "        # Triplet loss\n",
    "        def dist_fn(x1, x2):\n",
    "            return torch.sum(torch.pow(torch.subtract(x1, x2), 2), dim=0)\n",
    "\n",
    "        self.loss_fn = nn.TripletMarginWithDistanceLoss(\n",
    "            distance_function=dist_fn, margin=1.5\n",
    "        )\n",
    "\n",
    "        # model\n",
    "        self.input_size = 128\n",
    "        self.hidden_size = 128\n",
    "        self.lstm_layers = 1\n",
    "        self.out_size = 128\n",
    "\n",
    "        self.lstm = nn.LSTM(\n",
    "            self.input_size,\n",
    "            self.hidden_size,\n",
    "            num_layers=self.lstm_layers,\n",
    "            batch_first=True,\n",
    "        )\n",
    "        self.output = nn.Sequential(\n",
    "            nn.Linear(in_features=self.hidden_size, out_features=self.out_size),\n",
    "            nn.ReLU(),\n",
    "        )\n",
    "\n",
    "    def configure_optimizers(self):\n",
    "        optimizer = optim.Adam(self.parameters(), lr=1e-4)\n",
    "        scheduler = optim.lr_scheduler.LambdaLR(optimizer, lambda epoch: 0.95**epoch)\n",
    "        return [optimizer], [scheduler]\n",
    "\n",
    "    def forward(self, input):\n",
    "        input = input.to(device)\n",
    "\n",
    "        lstm_out, _ = self.lstm(input)\n",
    "        res = self.output(lstm_out[:, -1, :])\n",
    "        return res\n",
    "\n",
    "    def training_step(self, batch, batch_idx):\n",
    "        anchor_eeg, anchor_label = batch\n",
    "        positive_eeg = torch.empty(\n",
    "            (0, anchor_eeg[0].shape[0], anchor_eeg[0].shape[1]), dtype=torch.float32\n",
    "        )\n",
    "        negative_eeg = torch.empty(\n",
    "            (0, anchor_eeg[0].shape[0], anchor_eeg[0].shape[1]), dtype=torch.float32\n",
    "        )\n",
    "        for label in anchor_label:\n",
    "            positive_eeg = torch.cat(\n",
    "                (\n",
    "                    positive_eeg,\n",
    "                    loaders[\"train\"]\n",
    "                    .dataset.get_data(label, positive=True)[0]\n",
    "                    .unsqueeze(dim=0),\n",
    "                )\n",
    "            )\n",
    "            negative_eeg = torch.cat(\n",
    "                (\n",
    "                    negative_eeg,\n",
    "                    loaders[\"train\"]\n",
    "                    .dataset.get_data(label, positive=False)[0]\n",
    "                    .unsqueeze(dim=0),\n",
    "                )\n",
    "            )\n",
    "\n",
    "        anchor_feature = self(anchor_eeg)\n",
    "        positive_feature = self(positive_eeg)\n",
    "        negative_eeg = self(negative_eeg)\n",
    "\n",
    "        loss = self.loss_fn(anchor_feature, positive_feature, negative_eeg)\n",
    "\n",
    "        self.log(\"train_loss\", loss, on_epoch=True)\n",
    "        return loss\n",
    "\n",
    "    def validation_step(self, batch, batch_idx):\n",
    "        anchor_eeg, anchor_label = batch\n",
    "        positive_eeg = torch.empty(\n",
    "            (0, anchor_eeg[0].shape[0], anchor_eeg[0].shape[1]), dtype=torch.float32\n",
    "        )\n",
    "        negative_eeg = torch.empty(\n",
    "            (0, anchor_eeg[0].shape[0], anchor_eeg[0].shape[1]), dtype=torch.float32\n",
    "        )\n",
    "        for label in anchor_label:\n",
    "            positive_eeg = torch.cat(\n",
    "                (\n",
    "                    positive_eeg,\n",
    "                    loaders[\"val\"]\n",
    "                    .dataset.get_data(label, positive=True)[0]\n",
    "                    .unsqueeze(dim=0),\n",
    "                )\n",
    "            )\n",
    "            negative_eeg = torch.cat(\n",
    "                (\n",
    "                    negative_eeg,\n",
    "                    loaders[\"val\"]\n",
    "                    .dataset.get_data(label, positive=False)[0]\n",
    "                    .unsqueeze(dim=0),\n",
    "                )\n",
    "            )\n",
    "\n",
    "        anchor_feature = self(anchor_eeg)\n",
    "        positive_feature = self(positive_eeg)\n",
    "        negative_eeg = self(negative_eeg)\n",
    "\n",
    "        loss = self.loss_fn(anchor_feature, positive_feature, negative_eeg)\n",
    "\n",
    "        self.log(\"val_loss\", loss, on_epoch=True)"
   ]
  },
  {
   "cell_type": "markdown",
   "metadata": {},
   "source": [
    "# Training\n"
   ]
  },
  {
   "cell_type": "code",
   "execution_count": 171,
   "metadata": {},
   "outputs": [
    {
     "name": "stderr",
     "output_type": "stream",
     "text": [
      "GPU available: True (mps), used: True\n",
      "TPU available: False, using: 0 TPU cores\n",
      "IPU available: False, using: 0 IPUs\n",
      "HPU available: False, using: 0 HPUs\n",
      "\n",
      "  | Name    | Type                          | Params\n",
      "----------------------------------------------------------\n",
      "0 | loss_fn | TripletMarginWithDistanceLoss | 0     \n",
      "1 | lstm    | LSTM                          | 132 K \n",
      "2 | output  | Sequential                    | 16.5 K\n",
      "----------------------------------------------------------\n",
      "148 K     Trainable params\n",
      "0         Non-trainable params\n",
      "148 K     Total params\n",
      "0.594     Total estimated model params size (MB)\n"
     ]
    },
    {
     "name": "stdout",
     "output_type": "stream",
     "text": [
      "Epoch 3:  37%|███▋      | 185/497 [00:38<01:04,  4.83it/s, v_num=54]       "
     ]
    }
   ],
   "source": [
    "model = FeatureExtractor_ContrastiveLearning_NN()\n",
    "\n",
    "logger = TensorBoardLogger(\n",
    "    save_dir=\"/Users/ms/cs/ML/NeuroImagen/lightning_logs/ContrastiveLoss\",\n",
    "    name=\"test\",\n",
    "    version=None,\n",
    ")\n",
    "\n",
    "trainer = Trainer = L.Trainer(max_epochs=200, logger=logger)\n",
    "trainer.fit(model, train_dataloaders=loaders[\"train\"], val_dataloaders=loaders[\"val\"])"
   ]
  },
  {
   "cell_type": "markdown",
   "metadata": {},
   "source": [
    "# Classifier Model\n"
   ]
  },
  {
   "cell_type": "code",
   "execution_count": null,
   "metadata": {},
   "outputs": [],
   "source": []
  },
  {
   "cell_type": "markdown",
   "metadata": {},
   "source": [
    "# Train Classifier\n"
   ]
  },
  {
   "cell_type": "code",
   "execution_count": null,
   "metadata": {},
   "outputs": [],
   "source": []
  },
  {
   "cell_type": "markdown",
   "metadata": {},
   "source": [
    "# Test Classifier\n"
   ]
  },
  {
   "cell_type": "code",
   "execution_count": null,
   "metadata": {},
   "outputs": [],
   "source": []
  }
 ],
 "metadata": {
  "kernelspec": {
   "display_name": "neuroimagen",
   "language": "python",
   "name": "python3"
  },
  "language_info": {
   "codemirror_mode": {
    "name": "ipython",
    "version": 3
   },
   "file_extension": ".py",
   "mimetype": "text/x-python",
   "name": "python",
   "nbconvert_exporter": "python",
   "pygments_lexer": "ipython3",
   "version": "3.10.13"
  }
 },
 "nbformat": 4,
 "nbformat_minor": 2
}
