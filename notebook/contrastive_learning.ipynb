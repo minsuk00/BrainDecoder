{
 "cells": [
  {
   "cell_type": "markdown",
   "metadata": {},
   "source": [
    "# Import\n"
   ]
  },
  {
   "cell_type": "code",
   "execution_count": 71,
   "metadata": {},
   "outputs": [],
   "source": [
    "import torch\n",
    "import torch.nn as nn\n",
    "import torch.functional as F\n",
    "import torch.optim as optim\n",
    "from torch.utils.data import DataLoader, Dataset\n",
    "from sklearn.manifold import TSNE\n",
    "\n",
    "import lightning as L\n",
    "from lightning.pytorch.callbacks import LearningRateMonitor\n",
    "from lightning.pytorch.loggers import TensorBoardLogger\n",
    "\n",
    "import os\n",
    "import numpy as np\n",
    "import random\n",
    "from datetime import datetime\n",
    "from matplotlib import pyplot as plt\n",
    "import sys\n",
    "\n",
    "sys.path.append(os.path.join(os.path.dirname(os.getcwd()), \"code\"))\n",
    "import dataset as D\n",
    "import lookup_dict as ld"
   ]
  },
  {
   "cell_type": "code",
   "execution_count": 2,
   "metadata": {},
   "outputs": [],
   "source": [
    "root_path = \"/home/choi/BrainDecoder/\"\n",
    "dataset_path = os.path.join(root_path, \"dataset\")\n",
    "images_dataset_path = os.path.join(dataset_path, \"imageNet_images\")\n",
    "eeg_dataset_path = os.path.join(dataset_path, \"eeg\")\n",
    "\n",
    "config = {}"
   ]
  },
  {
   "cell_type": "code",
   "execution_count": 74,
   "metadata": {},
   "outputs": [
    {
     "name": "stdout",
     "output_type": "stream",
     "text": [
      "cuda:2\n"
     ]
    }
   ],
   "source": [
    "gpu_id = 2\n",
    "device = f\"cuda:{gpu_id}\" if torch.cuda.is_available() else \"cpu\"\n",
    "print(device)"
   ]
  },
  {
   "cell_type": "markdown",
   "metadata": {},
   "source": [
    "# Dataset\n"
   ]
  },
  {
   "cell_type": "markdown",
   "metadata": {},
   "source": [
    "##### dataset (deprecated)"
   ]
  },
  {
   "cell_type": "code",
   "execution_count": 64,
   "metadata": {},
   "outputs": [],
   "source": [
    "class EEGDataset(Dataset):\n",
    "    def __init__(self, eeg_dataset_file_name=\"eeg_5_95_std.pth\") -> None:\n",
    "        super().__init__()\n",
    "        loaded = torch.load(os.path.join(eeg_dataset_path, eeg_dataset_file_name))\n",
    "        self.data = loaded[\"dataset\"]\n",
    "        self.labels = loaded[\"labels\"]\n",
    "        self.images = loaded[\"images\"]\n",
    "        self.size = len(self.data)\n",
    "\n",
    "    def __getitem__(self, idx):\n",
    "        # t() -> transpose\n",
    "        eeg = self.data[idx][\"eeg\"].t().to(torch.float)\n",
    "        eeg = eeg[20:460, :]\n",
    "\n",
    "        label = self.data[idx][\"label\"]\n",
    "        return eeg, label\n",
    "\n",
    "    def __len__(self):\n",
    "        return self.size"
   ]
  },
  {
   "cell_type": "code",
   "execution_count": 65,
   "metadata": {},
   "outputs": [],
   "source": [
    "class Splitter(Dataset):\n",
    "    def __init__(self, dataset, split_name=\"train\") -> None:\n",
    "        super().__init__()\n",
    "        self.dataset = dataset\n",
    "\n",
    "        loaded = torch.load(\n",
    "            os.path.join(eeg_dataset_path, \"block_splits_by_image_all.pth\")\n",
    "        )\n",
    "        self.target_data_indices = loaded[\"splits\"][0][split_name]\n",
    "        # filter data that is too short\n",
    "        self.target_data_indices = [\n",
    "            i\n",
    "            for i in self.target_data_indices\n",
    "            if 450 <= self.dataset.data[i][\"eeg\"].size(1) <= 600\n",
    "        ]\n",
    "\n",
    "        self.size = len(self.target_data_indices)\n",
    "        self.all_labels = np.array(self.get_all_labels())\n",
    "        self.all_eegs = self.get_all_eegs()\n",
    "\n",
    "    def __getitem__(self, idx):\n",
    "        eeg, label = self.dataset[self.target_data_indices[idx]]\n",
    "        return eeg, label\n",
    "\n",
    "    def __len__(self):\n",
    "        return self.size\n",
    "\n",
    "    def get_all_labels(self):\n",
    "        data = [self.dataset[idx] for idx in self.target_data_indices]\n",
    "        return [item[1] for item in data]\n",
    "\n",
    "    def get_all_eegs(self):\n",
    "        data = [self.dataset[idx] for idx in self.target_data_indices]\n",
    "        return [item[0] for item in data]\n",
    "\n",
    "    def generate_data_points(self, anchor_labels, positive=True):\n",
    "        eeg_shape = self.__getitem__(0)[0].size()\n",
    "        eegs = torch.empty(0, eeg_shape[0], eeg_shape[1])\n",
    "        labels = torch.empty(0)\n",
    "        for anchor_label in anchor_labels:\n",
    "            indices = (\n",
    "                np.argwhere(self.all_labels == anchor_label.item())[:, 0]\n",
    "                if positive\n",
    "                else np.argwhere(self.all_labels != anchor_label.item())[:, 0]\n",
    "            )\n",
    "            data_idx = np.random.choice(indices)\n",
    "            eeg = self.all_eegs[data_idx]\n",
    "            eegs = torch.cat((eegs, eeg.unsqueeze(dim=0)))\n",
    "            labels = torch.cat(\n",
    "                (labels, torch.tensor(self.all_labels[data_idx]).unsqueeze(dim=0))\n",
    "            )\n",
    "\n",
    "        return eegs, labels\n",
    "\n",
    "    def get_data(self, anchor_label, positive: bool = True):\n",
    "        cnt = 0\n",
    "        while True:\n",
    "            idx = random.choice(self.target_data_indices)\n",
    "            if positive and self.dataset[idx][1] == anchor_label:\n",
    "                return self.dataset[idx]\n",
    "            if not positive and self.dataset[idx][1] != anchor_label:\n",
    "                return self.dataset[idx]\n",
    "\n",
    "            if cnt >= 2000:\n",
    "                raise Exception(f\"get_data failed after {cnt} tries\")\n",
    "            cnt += 1"
   ]
  },
  {
   "cell_type": "code",
   "execution_count": 66,
   "metadata": {},
   "outputs": [
    {
     "ename": "KeyboardInterrupt",
     "evalue": "",
     "output_type": "error",
     "traceback": [
      "\u001b[0;31m---------------------------------------------------------------------------\u001b[0m",
      "\u001b[0;31mKeyboardInterrupt\u001b[0m                         Traceback (most recent call last)",
      "Cell \u001b[0;32mIn[66], line 2\u001b[0m\n\u001b[1;32m      1\u001b[0m dataset \u001b[38;5;241m=\u001b[39m EEGDataset(eeg_dataset_file_name\u001b[38;5;241m=\u001b[39m\u001b[38;5;124m\"\u001b[39m\u001b[38;5;124meeg_signals_raw_with_mean_std.pth\u001b[39m\u001b[38;5;124m\"\u001b[39m)\n\u001b[0;32m----> 2\u001b[0m loaders \u001b[38;5;241m=\u001b[39m \u001b[43m{\u001b[49m\n\u001b[1;32m      3\u001b[0m \u001b[43m    \u001b[49m\u001b[43msplit\u001b[49m\u001b[43m:\u001b[49m\u001b[43m \u001b[49m\u001b[43mDataLoader\u001b[49m\u001b[43m(\u001b[49m\n\u001b[1;32m      4\u001b[0m \u001b[43m        \u001b[49m\u001b[43mSplitter\u001b[49m\u001b[43m(\u001b[49m\u001b[43mdataset\u001b[49m\u001b[43m,\u001b[49m\u001b[43m \u001b[49m\u001b[43msplit_name\u001b[49m\u001b[38;5;241;43m=\u001b[39;49m\u001b[43msplit\u001b[49m\u001b[43m)\u001b[49m\u001b[43m,\u001b[49m\u001b[43m \u001b[49m\u001b[43mbatch_size\u001b[49m\u001b[38;5;241;43m=\u001b[39;49m\u001b[38;5;241;43m16\u001b[39;49m\u001b[43m,\u001b[49m\u001b[43m \u001b[49m\u001b[43mshuffle\u001b[49m\u001b[38;5;241;43m=\u001b[39;49m\u001b[38;5;28;43;01mTrue\u001b[39;49;00m\u001b[43m,\u001b[49m\u001b[43m \u001b[49m\u001b[43mdrop_last\u001b[49m\u001b[38;5;241;43m=\u001b[39;49m\u001b[38;5;28;43;01mTrue\u001b[39;49;00m\n\u001b[1;32m      5\u001b[0m \u001b[43m    \u001b[49m\u001b[43m)\u001b[49m\n\u001b[1;32m      6\u001b[0m \u001b[43m    \u001b[49m\u001b[38;5;28;43;01mfor\u001b[39;49;00m\u001b[43m \u001b[49m\u001b[43msplit\u001b[49m\u001b[43m \u001b[49m\u001b[38;5;129;43;01min\u001b[39;49;00m\u001b[43m \u001b[49m\u001b[43m[\u001b[49m\u001b[38;5;124;43m\"\u001b[39;49m\u001b[38;5;124;43mtrain\u001b[39;49m\u001b[38;5;124;43m\"\u001b[39;49m\u001b[43m,\u001b[49m\u001b[43m \u001b[49m\u001b[38;5;124;43m\"\u001b[39;49m\u001b[38;5;124;43mval\u001b[39;49m\u001b[38;5;124;43m\"\u001b[39;49m\u001b[43m,\u001b[49m\u001b[43m \u001b[49m\u001b[38;5;124;43m\"\u001b[39;49m\u001b[38;5;124;43mtest\u001b[39;49m\u001b[38;5;124;43m\"\u001b[39;49m\u001b[43m]\u001b[49m\n\u001b[1;32m      7\u001b[0m \u001b[43m}\u001b[49m\n",
      "Cell \u001b[0;32mIn[66], line 4\u001b[0m, in \u001b[0;36m<dictcomp>\u001b[0;34m(.0)\u001b[0m\n\u001b[1;32m      1\u001b[0m dataset \u001b[38;5;241m=\u001b[39m EEGDataset(eeg_dataset_file_name\u001b[38;5;241m=\u001b[39m\u001b[38;5;124m\"\u001b[39m\u001b[38;5;124meeg_signals_raw_with_mean_std.pth\u001b[39m\u001b[38;5;124m\"\u001b[39m)\n\u001b[1;32m      2\u001b[0m loaders \u001b[38;5;241m=\u001b[39m {\n\u001b[1;32m      3\u001b[0m     split: DataLoader(\n\u001b[0;32m----> 4\u001b[0m         \u001b[43mSplitter\u001b[49m\u001b[43m(\u001b[49m\u001b[43mdataset\u001b[49m\u001b[43m,\u001b[49m\u001b[43m \u001b[49m\u001b[43msplit_name\u001b[49m\u001b[38;5;241;43m=\u001b[39;49m\u001b[43msplit\u001b[49m\u001b[43m)\u001b[49m, batch_size\u001b[38;5;241m=\u001b[39m\u001b[38;5;241m16\u001b[39m, shuffle\u001b[38;5;241m=\u001b[39m\u001b[38;5;28;01mTrue\u001b[39;00m, drop_last\u001b[38;5;241m=\u001b[39m\u001b[38;5;28;01mTrue\u001b[39;00m\n\u001b[1;32m      5\u001b[0m     )\n\u001b[1;32m      6\u001b[0m     \u001b[38;5;28;01mfor\u001b[39;00m split \u001b[38;5;129;01min\u001b[39;00m [\u001b[38;5;124m\"\u001b[39m\u001b[38;5;124mtrain\u001b[39m\u001b[38;5;124m\"\u001b[39m, \u001b[38;5;124m\"\u001b[39m\u001b[38;5;124mval\u001b[39m\u001b[38;5;124m\"\u001b[39m, \u001b[38;5;124m\"\u001b[39m\u001b[38;5;124mtest\u001b[39m\u001b[38;5;124m\"\u001b[39m]\n\u001b[1;32m      7\u001b[0m }\n",
      "Cell \u001b[0;32mIn[65], line 18\u001b[0m, in \u001b[0;36mSplitter.__init__\u001b[0;34m(self, dataset, split_name)\u001b[0m\n\u001b[1;32m     11\u001b[0m \u001b[38;5;28mself\u001b[39m\u001b[38;5;241m.\u001b[39mtarget_data_indices \u001b[38;5;241m=\u001b[39m [\n\u001b[1;32m     12\u001b[0m     i\n\u001b[1;32m     13\u001b[0m     \u001b[38;5;28;01mfor\u001b[39;00m i \u001b[38;5;129;01min\u001b[39;00m \u001b[38;5;28mself\u001b[39m\u001b[38;5;241m.\u001b[39mtarget_data_indices\n\u001b[1;32m     14\u001b[0m     \u001b[38;5;28;01mif\u001b[39;00m \u001b[38;5;241m450\u001b[39m \u001b[38;5;241m<\u001b[39m\u001b[38;5;241m=\u001b[39m \u001b[38;5;28mself\u001b[39m\u001b[38;5;241m.\u001b[39mdataset\u001b[38;5;241m.\u001b[39mdata[i][\u001b[38;5;124m\"\u001b[39m\u001b[38;5;124meeg\u001b[39m\u001b[38;5;124m\"\u001b[39m]\u001b[38;5;241m.\u001b[39msize(\u001b[38;5;241m1\u001b[39m) \u001b[38;5;241m<\u001b[39m\u001b[38;5;241m=\u001b[39m \u001b[38;5;241m600\u001b[39m\n\u001b[1;32m     15\u001b[0m ]\n\u001b[1;32m     17\u001b[0m \u001b[38;5;28mself\u001b[39m\u001b[38;5;241m.\u001b[39msize \u001b[38;5;241m=\u001b[39m \u001b[38;5;28mlen\u001b[39m(\u001b[38;5;28mself\u001b[39m\u001b[38;5;241m.\u001b[39mtarget_data_indices)\n\u001b[0;32m---> 18\u001b[0m \u001b[38;5;28mself\u001b[39m\u001b[38;5;241m.\u001b[39mall_labels \u001b[38;5;241m=\u001b[39m np\u001b[38;5;241m.\u001b[39marray(\u001b[38;5;28;43mself\u001b[39;49m\u001b[38;5;241;43m.\u001b[39;49m\u001b[43mget_all_labels\u001b[49m\u001b[43m(\u001b[49m\u001b[43m)\u001b[49m)\n\u001b[1;32m     19\u001b[0m \u001b[38;5;28mself\u001b[39m\u001b[38;5;241m.\u001b[39mall_eegs \u001b[38;5;241m=\u001b[39m \u001b[38;5;28mself\u001b[39m\u001b[38;5;241m.\u001b[39mget_all_eegs()\n",
      "Cell \u001b[0;32mIn[65], line 29\u001b[0m, in \u001b[0;36mSplitter.get_all_labels\u001b[0;34m(self)\u001b[0m\n\u001b[1;32m     28\u001b[0m \u001b[38;5;28;01mdef\u001b[39;00m \u001b[38;5;21mget_all_labels\u001b[39m(\u001b[38;5;28mself\u001b[39m):\n\u001b[0;32m---> 29\u001b[0m     data \u001b[38;5;241m=\u001b[39m \u001b[43m[\u001b[49m\u001b[38;5;28;43mself\u001b[39;49m\u001b[38;5;241;43m.\u001b[39;49m\u001b[43mdataset\u001b[49m\u001b[43m[\u001b[49m\u001b[43midx\u001b[49m\u001b[43m]\u001b[49m\u001b[43m \u001b[49m\u001b[38;5;28;43;01mfor\u001b[39;49;00m\u001b[43m \u001b[49m\u001b[43midx\u001b[49m\u001b[43m \u001b[49m\u001b[38;5;129;43;01min\u001b[39;49;00m\u001b[43m \u001b[49m\u001b[38;5;28;43mself\u001b[39;49m\u001b[38;5;241;43m.\u001b[39;49m\u001b[43mtarget_data_indices\u001b[49m\u001b[43m]\u001b[49m\n\u001b[1;32m     30\u001b[0m     \u001b[38;5;28;01mreturn\u001b[39;00m [item[\u001b[38;5;241m1\u001b[39m] \u001b[38;5;28;01mfor\u001b[39;00m item \u001b[38;5;129;01min\u001b[39;00m data]\n",
      "Cell \u001b[0;32mIn[65], line 29\u001b[0m, in \u001b[0;36m<listcomp>\u001b[0;34m(.0)\u001b[0m\n\u001b[1;32m     28\u001b[0m \u001b[38;5;28;01mdef\u001b[39;00m \u001b[38;5;21mget_all_labels\u001b[39m(\u001b[38;5;28mself\u001b[39m):\n\u001b[0;32m---> 29\u001b[0m     data \u001b[38;5;241m=\u001b[39m [\u001b[38;5;28;43mself\u001b[39;49m\u001b[38;5;241;43m.\u001b[39;49m\u001b[43mdataset\u001b[49m\u001b[43m[\u001b[49m\u001b[43midx\u001b[49m\u001b[43m]\u001b[49m \u001b[38;5;28;01mfor\u001b[39;00m idx \u001b[38;5;129;01min\u001b[39;00m \u001b[38;5;28mself\u001b[39m\u001b[38;5;241m.\u001b[39mtarget_data_indices]\n\u001b[1;32m     30\u001b[0m     \u001b[38;5;28;01mreturn\u001b[39;00m [item[\u001b[38;5;241m1\u001b[39m] \u001b[38;5;28;01mfor\u001b[39;00m item \u001b[38;5;129;01min\u001b[39;00m data]\n",
      "Cell \u001b[0;32mIn[64], line 12\u001b[0m, in \u001b[0;36mEEGDataset.__getitem__\u001b[0;34m(self, idx)\u001b[0m\n\u001b[1;32m     10\u001b[0m \u001b[38;5;28;01mdef\u001b[39;00m \u001b[38;5;21m__getitem__\u001b[39m(\u001b[38;5;28mself\u001b[39m, idx):\n\u001b[1;32m     11\u001b[0m     \u001b[38;5;66;03m# t() -> transpose\u001b[39;00m\n\u001b[0;32m---> 12\u001b[0m     eeg \u001b[38;5;241m=\u001b[39m \u001b[38;5;28;43mself\u001b[39;49m\u001b[38;5;241;43m.\u001b[39;49m\u001b[43mdata\u001b[49m\u001b[43m[\u001b[49m\u001b[43midx\u001b[49m\u001b[43m]\u001b[49m\u001b[43m[\u001b[49m\u001b[38;5;124;43m\"\u001b[39;49m\u001b[38;5;124;43meeg\u001b[39;49m\u001b[38;5;124;43m\"\u001b[39;49m\u001b[43m]\u001b[49m\u001b[38;5;241;43m.\u001b[39;49m\u001b[43mt\u001b[49m\u001b[43m(\u001b[49m\u001b[43m)\u001b[49m\u001b[38;5;241;43m.\u001b[39;49m\u001b[43mto\u001b[49m\u001b[43m(\u001b[49m\u001b[43mtorch\u001b[49m\u001b[38;5;241;43m.\u001b[39;49m\u001b[43mfloat\u001b[49m\u001b[43m)\u001b[49m\n\u001b[1;32m     13\u001b[0m     eeg \u001b[38;5;241m=\u001b[39m eeg[\u001b[38;5;241m20\u001b[39m:\u001b[38;5;241m460\u001b[39m, :]\n\u001b[1;32m     15\u001b[0m     label \u001b[38;5;241m=\u001b[39m \u001b[38;5;28mself\u001b[39m\u001b[38;5;241m.\u001b[39mdata[idx][\u001b[38;5;124m\"\u001b[39m\u001b[38;5;124mlabel\u001b[39m\u001b[38;5;124m\"\u001b[39m]\n",
      "\u001b[0;31mKeyboardInterrupt\u001b[0m: "
     ]
    }
   ],
   "source": [
    "dataset = EEGDataset(eeg_dataset_file_name=\"eeg_signals_raw_with_mean_std.pth\")\n",
    "loaders = {\n",
    "    split: DataLoader(\n",
    "        Splitter(dataset, split_name=split), batch_size=16, shuffle=True, drop_last=True\n",
    "    )\n",
    "    for split in [\"train\", \"val\", \"test\"]\n",
    "}"
   ]
  },
  {
   "cell_type": "markdown",
   "metadata": {},
   "source": [
    "##### dataset from py file"
   ]
  },
  {
   "cell_type": "code",
   "execution_count": 5,
   "metadata": {},
   "outputs": [],
   "source": [
    "if len(config.keys()) == 0:\n",
    "    raise Exception(\"need to set config\")\n",
    "\n",
    "dataset = D.EEGDataset(eeg_dataset_file_name=\"eeg_signals_raw_with_mean_std.pth\")\n",
    "# dataset = D.EEGDataset(eeg_dataset_file_name=\"eeg_5_95_std.pth\")\n",
    "\n",
    "loaders = {\n",
    "    split: DataLoader(\n",
    "        D.Splitter(dataset, split_name=split),\n",
    "        batch_size=config[\"batch-size\"],\n",
    "        shuffle=True if split == \"train\" else False,\n",
    "        num_workers=23,\n",
    "        drop_last=True,\n",
    "    )\n",
    "    for split in [\"train\", \"val\", \"test\"]\n",
    "}"
   ]
  },
  {
   "cell_type": "markdown",
   "metadata": {},
   "source": [
    "# Model\n"
   ]
  },
  {
   "cell_type": "code",
   "execution_count": 95,
   "metadata": {},
   "outputs": [],
   "source": [
    "class FeatureExtractor_ContrastiveLearning_NN(L.LightningModule):\n",
    "    def __init__(self):\n",
    "        super().__init__()\n",
    "        self.save_hyperparameters()\n",
    "\n",
    "        # Triplet loss\n",
    "        self.loss_fn = nn.TripletMarginWithDistanceLoss(\n",
    "            distance_function=self.dist_fn, margin=config[\"margin\"]\n",
    "        )\n",
    "\n",
    "        # model\n",
    "        self.input_size = 128\n",
    "        self.hidden_size = 128\n",
    "        self.lstm_layers = config[\"lstm-layer\"]\n",
    "        self.out_size = 128\n",
    "\n",
    "        self.lstm = nn.LSTM(\n",
    "            self.input_size,\n",
    "            self.hidden_size,\n",
    "            num_layers=self.lstm_layers,\n",
    "            batch_first=True,\n",
    "        )\n",
    "        self.output = nn.Sequential(\n",
    "            nn.Linear(in_features=self.hidden_size, out_features=self.out_size),\n",
    "            nn.ReLU(),\n",
    "        )\n",
    "\n",
    "    def dist_fn(self, x1, x2):\n",
    "        return torch.sum(torch.pow(torch.subtract(x1, x2), 2), dim=1)\n",
    "\n",
    "    def forward(self, input):\n",
    "        input = input.to(device)\n",
    "\n",
    "        lstm_out, _ = self.lstm(input)\n",
    "        res = self.output(lstm_out[:, -1, :])\n",
    "        return res\n",
    "\n",
    "    def training_step(self, batch, batch_idx):\n",
    "        anchor_eeg, anchor_label, _ = batch\n",
    "\n",
    "        positive_eeg, positive_label = loaders[\"train\"].dataset.generate_data_points(\n",
    "            anchor_label, positive=True\n",
    "        )\n",
    "        negative_eeg, negative_label = loaders[\"train\"].dataset.generate_data_points(\n",
    "            anchor_label, positive=False\n",
    "        )\n",
    "\n",
    "        anchor_feature = self(anchor_eeg)\n",
    "        positive_feature = self(positive_eeg)\n",
    "        negative_feature = self(negative_eeg)\n",
    "\n",
    "        loss = self.loss_fn(anchor_feature, positive_feature, negative_feature)\n",
    "\n",
    "        self.log_dict(\n",
    "            {\"train_loss\": loss, \"lr\": self.scheduler.get_last_lr()[0]},\n",
    "            on_epoch=True,\n",
    "            prog_bar=True,\n",
    "            batch_size=config[\"batch-size\"],\n",
    "        )\n",
    "        return loss\n",
    "\n",
    "    # # online triplet learning\n",
    "    # def training_step(self, batch, batch_idx):\n",
    "    #     eegs, labels, _ = batch\n",
    "\n",
    "    #     batch_size = eegs.size(0)\n",
    "    #     # calculate embeddings(feature vector) for each eeg\n",
    "    #     embeddings = self(eegs)\n",
    "\n",
    "    #     # create adjacency matrix of distance. (2d matrix of distance)\n",
    "    #     # https://github.com/eroj333/learning-cv-ml/blob/master/SNN/Online%20Triplet%20Mining.ipynb\n",
    "    #     dot_product = torch.matmul(embeddings, embeddings.t())\n",
    "    #     diag = torch.diag(dot_product)\n",
    "    #     dist_matrix = diag.unsqueeze(dim=1) - 2.0 * dot_product + diag.unsqueeze(dim=0)\n",
    "\n",
    "    #     # get positive mask\n",
    "    #     identity = torch.eye(labels.size(0))\n",
    "    #     distinct_identiy = torch.logical_not(identity).to(device)\n",
    "    #     eq_mask = torch.eq(labels, labels.unsqueeze(dim=1))\n",
    "    #     anchor_positive_mask = torch.logical_and(eq_mask, distinct_identiy).to(\n",
    "    #         dtype=float\n",
    "    #     )\n",
    "\n",
    "    #     # calculate positive distance matrix\n",
    "    #     anchor_positive_dist_matrix = dist_matrix * anchor_positive_mask\n",
    "    #     hardest_anchor_positive_dist = anchor_positive_dist_matrix.max(dim=1)\n",
    "\n",
    "    #     # get negative mask\n",
    "    #     anchor_negative_mask = torch.logical_not(eq_mask).to(dtype=float)\n",
    "\n",
    "    #     # calculate negative distance matrix\n",
    "    #     anchor_negative_dist_matrix = dist_matrix * anchor_negative_mask\n",
    "    #     hardest_anchor_negative_dist = anchor_negative_dist_matrix.max(dim=1)\n",
    "\n",
    "    #     triplet_loss = torch.clamp(\n",
    "    #         hardest_anchor_positive_dist.values\n",
    "    #         - hardest_anchor_negative_dist.values\n",
    "    #         + config[\"margin\"],\n",
    "    #         min=0,\n",
    "    #     ).mean()\n",
    "\n",
    "    #     self.log_dict(\n",
    "    #         {\"train_loss\": triplet_loss, \"lr\": self.scheduler.get_last_lr()[0]},\n",
    "    #         on_epoch=True,\n",
    "    #         prog_bar=True,\n",
    "    #         batch_size=config[\"batch-size\"],\n",
    "    #     )\n",
    "    #     return triplet_loss\n",
    "\n",
    "    def on_train_epoch_end(self):\n",
    "        # implement tsne\n",
    "        if self.current_epoch % config[\"tsne-interval\"] == 0:\n",
    "            self.show_manifold()\n",
    "\n",
    "    def validation_step(self, batch, batch_idx):\n",
    "        anchor_eeg, anchor_label, _ = batch\n",
    "\n",
    "        positive_eeg, positive_label = loaders[\"val\"].dataset.generate_data_points(\n",
    "            anchor_label, positive=True\n",
    "        )\n",
    "        negative_eeg, negative_label = loaders[\"val\"].dataset.generate_data_points(\n",
    "            anchor_label, positive=False\n",
    "        )\n",
    "\n",
    "        anchor_feature = self(anchor_eeg)\n",
    "        positive_feature = self(positive_eeg)\n",
    "        negative_feature = self(negative_eeg)\n",
    "\n",
    "        loss = self.loss_fn(anchor_feature, positive_feature, negative_feature)\n",
    "\n",
    "        self.log_dict(\n",
    "            {\"val_loss\": loss},\n",
    "            on_epoch=True,\n",
    "            prog_bar=True,\n",
    "            batch_size=config[\"batch-size\"],\n",
    "        )\n",
    "\n",
    "    def create_optimizer(self):\n",
    "        if config[\"optimizer\"] == \"Adam\":\n",
    "            return optim.Adam(\n",
    "                self.parameters(),\n",
    "                lr=config[\"lr\"],\n",
    "                weight_decay=config[\"weight-decay\"],\n",
    "                betas=config[\"betas\"],\n",
    "            )\n",
    "        elif config[\"optimizer\"] == \"AdamW\":\n",
    "            return optim.AdamW(\n",
    "                self.parameters(),\n",
    "                lr=config[\"lr\"],\n",
    "                weight_decay=config[\"weight-decay\"],\n",
    "            )\n",
    "        elif config[\"optimizer\"] == \"SGD\":\n",
    "            return optim.SGD(\n",
    "                self.parameters(),\n",
    "                lr=config[\"lr\"],\n",
    "                weight_decay=config[\"weight-decay\"],\n",
    "            )\n",
    "        else:\n",
    "            raise Exception(\"optimizer config error\")\n",
    "\n",
    "    def create_scheduler(self, optimizer):\n",
    "        if config[\"scheduler\"] == \"LambdaLR\":\n",
    "            return optim.lr_scheduler.LambdaLR(\n",
    "                optimizer, lambda epoch: config[\"lambda-factor\"] ** epoch\n",
    "            )\n",
    "        else:\n",
    "            raise Exception(\"scheduler config error\")\n",
    "\n",
    "    def configure_optimizers(self):\n",
    "        optimizer = self.create_optimizer()\n",
    "        scheduler = self.create_scheduler(optimizer)\n",
    "        self.scheduler = scheduler\n",
    "        return [optimizer], [scheduler]\n",
    "        # return [optimizer]\n",
    "\n",
    "    def show_manifold(self, dataloader=loaders[\"val\"]):\n",
    "        features = []\n",
    "        actuals = []\n",
    "\n",
    "        # calculate feature vectors\n",
    "        with torch.no_grad():\n",
    "            for data in dataloader:\n",
    "                eegs, labels, _ = data\n",
    "\n",
    "                actuals += labels.cpu().numpy().tolist()\n",
    "                features += self(eegs).cpu().numpy().tolist()\n",
    "\n",
    "        # tsne\n",
    "        tsne = TSNE(n_components=2, random_state=0)\n",
    "        cluster = np.array(tsne.fit_transform(np.array(features)))\n",
    "        actuals = np.array(actuals)\n",
    "\n",
    "        # make matplotlib figure\n",
    "        fig = plt.figure(figsize=(16, 10))\n",
    "        for i in range(40):\n",
    "            idx = np.where(actuals == i)\n",
    "            plt.scatter(\n",
    "                cluster[idx, 0],\n",
    "                cluster[idx, 1],\n",
    "                marker=\".\",\n",
    "                label=ld.id_to_name[ld.lookup_dict[i]],\n",
    "            )\n",
    "        # plt.legend(bbox_to_anchor=(1.25, 0.6), loc=\"center left\")\n",
    "        plt.legend()\n",
    "\n",
    "        # convert fig to tensor in order to log to tensorboard\n",
    "        import io\n",
    "        import PIL.Image\n",
    "        from torchvision.transforms import ToTensor\n",
    "\n",
    "        buf = io.BytesIO()\n",
    "        plt.savefig(buf, format=\"jpeg\")\n",
    "        buf.seek(0)\n",
    "        img = ToTensor()(PIL.Image.open(buf))\n",
    "\n",
    "        # log to tensorboard\n",
    "        tb_logger = None\n",
    "        for logger in self.trainer.loggers:\n",
    "            if isinstance(logger, TensorBoardLogger):\n",
    "                tb_logger = logger.experiment\n",
    "                break\n",
    "        if tb_logger is None:\n",
    "            raise ValueError(\"TensorBoard Logger not found\")\n",
    "        tb_logger.add_image(\"TSNE of triplet loss manifold\", img, self.current_epoch)\n",
    "\n",
    "        return"
   ]
  },
  {
   "cell_type": "markdown",
   "metadata": {},
   "source": [
    "# Training\n"
   ]
  },
  {
   "cell_type": "code",
   "execution_count": 96,
   "metadata": {},
   "outputs": [],
   "source": [
    "config = {\n",
    "    \"optimizer\": \"Adam\",  # (\"Adam\", \"AdamW\", \"SGD\")\n",
    "    \"lr\": 1e-3,\n",
    "    \"betas\": (0.9, 0.999),\n",
    "    \"scheduler\": \"LambdaLR\",\n",
    "    # \"scheduler\": \"None\",\n",
    "    \"lambda-factor\": 0.975,\n",
    "    # \"lambda-factor\": \"None\",\n",
    "    \"weight-decay\": 0,\n",
    "    \"margin\": 2.0,\n",
    "    \"lstm-layer\": 3,\n",
    "    \"batch-size\": 16,\n",
    "    \"tsne-interval\": 5,\n",
    "}"
   ]
  },
  {
   "cell_type": "code",
   "execution_count": 97,
   "metadata": {},
   "outputs": [
    {
     "name": "stderr",
     "output_type": "stream",
     "text": [
      "GPU available: True (cuda), used: True\n",
      "TPU available: False, using: 0 TPU cores\n",
      "IPU available: False, using: 0 IPUs\n",
      "HPU available: False, using: 0 HPUs\n",
      "LOCAL_RANK: 0 - CUDA_VISIBLE_DEVICES: [0,1,2]\n",
      "\n",
      "  | Name    | Type                          | Params\n",
      "----------------------------------------------------------\n",
      "0 | loss_fn | TripletMarginWithDistanceLoss | 0     \n",
      "1 | lstm    | LSTM                          | 396 K \n",
      "2 | output  | Sequential                    | 16.5 K\n",
      "----------------------------------------------------------\n",
      "412 K     Trainable params\n",
      "0         Non-trainable params\n",
      "412 K     Total params\n",
      "1.651     Total estimated model params size (MB)\n"
     ]
    },
    {
     "name": "stdout",
     "output_type": "stream",
     "text": [
      "Epoch 0:   0%|          | 0/497 [00:00<?, ?it/s]                           "
     ]
    }
   ],
   "source": [
    "model = FeatureExtractor_ContrastiveLearning_NN()\n",
    "model.to(device)\n",
    "\n",
    "now = datetime.now()\n",
    "now_hm = now.strftime(\"%H:%M\")\n",
    "\n",
    "logger = TensorBoardLogger(\n",
    "    save_dir=\"/home/choi/BrainDecoder/lightning_logs/ContrastiveLossFeatureLearning\",\n",
    "    name=f\"{now_hm}_{config['optimizer']}_{config['lr']}_{config['scheduler']}_margin_{config['margin']}_weight-decay_{config['weight-decay']}_lambda-factor_{config['lambda-factor']}\",\n",
    "    version=now.strftime(\"%Y-%m-%d %H:%M:%S\"),\n",
    ")\n",
    "\n",
    "lr_monitor = LearningRateMonitor(logging_interval=\"epoch\")\n",
    "\n",
    "trainer = Trainer = L.Trainer(\n",
    "    max_epochs=500,\n",
    "    logger=logger,\n",
    "    callbacks=[lr_monitor],\n",
    "    accelerator=\"gpu\",\n",
    "    devices=[gpu_id],\n",
    ")\n",
    "trainer.fit(model, train_dataloaders=loaders[\"train\"], val_dataloaders=loaders[\"val\"])"
   ]
  },
  {
   "cell_type": "markdown",
   "metadata": {},
   "source": [
    "# Classifier Model\n"
   ]
  },
  {
   "cell_type": "code",
   "execution_count": 25,
   "metadata": {},
   "outputs": [],
   "source": [
    "path = \"/home/choi/BrainDecoder/lightning_logs/ContrastiveLossFeatureLearning/23:48_Adam_0.001_LambdaLR_margin_2.0_weight-decay_0_lambda-factor_0.975/2023-12-18 23:48:57/checkpoints/epoch=52-step=26341.ckpt\"\n",
    "\n",
    "CKPT_PATH = os.path.join(root_path, path)"
   ]
  },
  {
   "cell_type": "code",
   "execution_count": 26,
   "metadata": {},
   "outputs": [],
   "source": [
    "from torchmetrics.functional import accuracy\n",
    "\n",
    "classifier_config = {}\n",
    "\n",
    "\n",
    "class EEG_Classifier(L.LightningModule):\n",
    "    def __init__(self):\n",
    "        super().__init__()\n",
    "        self.save_hyperparameters()\n",
    "\n",
    "        # self.feature_extractor = FeatureExtractor_ContrastiveLearning_NN()\n",
    "        self.feature_extractor = (\n",
    "            FeatureExtractor_ContrastiveLearning_NN.load_from_checkpoint(CKPT_PATH)\n",
    "        )\n",
    "        self.feature_extractor.requires_grad_(False)\n",
    "        self.classifier = nn.Linear(128, 40)\n",
    "\n",
    "        self.loss_fn = nn.CrossEntropyLoss()\n",
    "\n",
    "    def forward(self, input):\n",
    "        # for p in self.feature_extractor.parameters():\n",
    "        #     p.requires_grad = False\n",
    "        # with torch.no_grad():\n",
    "        #     input = self.feature_extractor(input)\n",
    "        input = self.feature_extractor(input)\n",
    "        res = self.classifier(input)\n",
    "        return res\n",
    "\n",
    "    def training_step(self, batch, batch_idx):\n",
    "        eegs, labels, _ = batch\n",
    "        eegs = eegs.to(device)\n",
    "        labels = labels.to(device)\n",
    "\n",
    "        out = self(eegs)\n",
    "\n",
    "        loss = self.loss_fn(out, labels)\n",
    "        self.log_dict(\n",
    "            {\"train_loss\": loss, \"lr\": self.scheduler.get_last_lr()[0]},\n",
    "            on_epoch=True,\n",
    "            prog_bar=True,\n",
    "            batch_size=config[\"batch-size\"],\n",
    "        )\n",
    "        return loss\n",
    "\n",
    "    def validation_step(self, batch, batch_idx):\n",
    "        self._shared_eval(batch, prefix=\"val\")\n",
    "\n",
    "    def test_step(self, batch, batch_idx):\n",
    "        self._shared_eval(batch, prefix=\"test\")\n",
    "\n",
    "    def _shared_eval(self, batch, prefix=\"val\"):\n",
    "        eegs, labels, _ = batch\n",
    "        out = self(eegs)\n",
    "        loss = self.loss_fn(out, labels)\n",
    "        preds = torch.argmax(out, dim=1)\n",
    "        acc = accuracy(preds, labels, \"multiclass\", num_classes=preds.shape[0])\n",
    "        self.log_dict({f\"{prefix}_loss\": loss, f\"{prefix}_acc\": acc}, prog_bar=True)\n",
    "\n",
    "    def predict_step(self, batch):\n",
    "        return self(batch)\n",
    "\n",
    "    def configure_optimizers(self):\n",
    "        optimizer = optim.Adam(\n",
    "            self.parameters(),\n",
    "            lr=classifier_config[\"lr\"],\n",
    "            weight_decay=classifier_config[\"weight-decay\"],\n",
    "            betas=classifier_config[\"betas\"],\n",
    "        )\n",
    "        scheduler = optim.lr_scheduler.LambdaLR(\n",
    "            optimizer, (lambda epoch: classifier_config[\"lambda-factor\"] ** epoch)\n",
    "        )\n",
    "        self.scheduler = scheduler\n",
    "        return [optimizer], [scheduler]"
   ]
  },
  {
   "cell_type": "markdown",
   "metadata": {},
   "source": [
    "# Train Classifier\n"
   ]
  },
  {
   "cell_type": "code",
   "execution_count": 27,
   "metadata": {},
   "outputs": [],
   "source": [
    "classifier_config = {\n",
    "    \"optimizer\": \"Adam\",  # (\"Adam\", \"AdamW\", \"SGD\")\n",
    "    \"lr\": 1e-3,\n",
    "    \"betas\": (0.9, 0.999),\n",
    "    \"scheduler\": \"LambdaLR\",\n",
    "    \"lambda-factor\": 0.95,\n",
    "    \"weight-decay\": 0,\n",
    "}"
   ]
  },
  {
   "cell_type": "code",
   "execution_count": 28,
   "metadata": {},
   "outputs": [
    {
     "name": "stderr",
     "output_type": "stream",
     "text": [
      "GPU available: True (cuda), used: True\n",
      "TPU available: False, using: 0 TPU cores\n",
      "IPU available: False, using: 0 IPUs\n",
      "HPU available: False, using: 0 HPUs\n",
      "LOCAL_RANK: 0 - CUDA_VISIBLE_DEVICES: [0,1,2]\n",
      "\n",
      "  | Name              | Type                                    | Params\n",
      "------------------------------------------------------------------------------\n",
      "0 | feature_extractor | FeatureExtractor_ContrastiveLearning_NN | 412 K \n",
      "1 | classifier        | Linear                                  | 5.2 K \n",
      "2 | loss_fn           | CrossEntropyLoss                        | 0     \n",
      "------------------------------------------------------------------------------\n",
      "5.2 K     Trainable params\n",
      "412 K     Non-trainable params\n",
      "417 K     Total params\n",
      "1.672     Total estimated model params size (MB)\n"
     ]
    },
    {
     "name": "stdout",
     "output_type": "stream",
     "text": [
      "Sanity Checking: |          | 0/? [00:00<?, ?it/s]"
     ]
    },
    {
     "name": "stdout",
     "output_type": "stream",
     "text": [
      "                                                                           \r"
     ]
    },
    {
     "name": "stderr",
     "output_type": "stream",
     "text": [
      "/home/choi/Downloads/miniconda3/envs/braindecoder/lib/python3.11/site-packages/lightning/pytorch/utilities/data.py:77: Trying to infer the `batch_size` from an ambiguous collection. The batch size we found is 16. To avoid any miscalculations, use `self.log(..., batch_size=batch_size)`.\n"
     ]
    },
    {
     "name": "stdout",
     "output_type": "stream",
     "text": [
      "Epoch 4:  72%|███████▏  | 356/497 [00:08<00:03, 41.31it/s, v_num=1:11, train_loss_step=3.680, lr_step=0.000815, val_loss=3.700, val_acc=0.0232, train_loss_epoch=3.680, lr_epoch=0.000857]"
     ]
    }
   ],
   "source": [
    "model = EEG_Classifier()\n",
    "model.to(device)\n",
    "\n",
    "now = datetime.now()\n",
    "now_time = now.strftime(\"%H:%M\")\n",
    "\n",
    "logger = TensorBoardLogger(\n",
    "    save_dir=\"/home/choi/BrainDecoder/lightning_logs/ContrastiveLossClassification\",\n",
    "    name=f\"{now_time}_{config['optimizer']}_{config['lr']}__weight-decay_{config['weight-decay']}_{config['scheduler']}_lambda-factor_{config['lambda-factor']}\",\n",
    "    version=now.strftime(\"%Y-%m-%d %H:%M:%S\"),\n",
    ")\n",
    "\n",
    "lr_monitor = LearningRateMonitor(logging_interval=\"epoch\")\n",
    "\n",
    "trainer = L.Trainer(\n",
    "    max_epochs=200,\n",
    "    logger=logger,\n",
    "    callbacks=[lr_monitor],\n",
    "    accelerator=\"gpu\",\n",
    "    devices=[gpu_id],\n",
    ")\n",
    "trainer.fit(model, train_dataloaders=loaders[\"train\"], val_dataloaders=loaders[\"val\"])"
   ]
  },
  {
   "cell_type": "markdown",
   "metadata": {},
   "source": [
    "# Test Classifier\n"
   ]
  },
  {
   "cell_type": "code",
   "execution_count": 118,
   "metadata": {},
   "outputs": [
    {
     "name": "stderr",
     "output_type": "stream",
     "text": [
      "/Users/ms/anaconda3/envs/neuroimagen/lib/python3.10/site-packages/lightning/pytorch/trainer/connectors/data_connector.py:492: Your `test_dataloader`'s sampler has shuffling enabled, it is strongly recommended that you turn shuffling off for val/test dataloaders.\n",
      "/Users/ms/anaconda3/envs/neuroimagen/lib/python3.10/site-packages/lightning/pytorch/trainer/connectors/data_connector.py:441: The 'test_dataloader' does not have many workers which may be a bottleneck. Consider increasing the value of the `num_workers` argument` to `num_workers=7` in the `DataLoader` to improve performance.\n"
     ]
    },
    {
     "name": "stdout",
     "output_type": "stream",
     "text": [
      "Testing DataLoader 0: 100%|██████████| 124/124 [00:04<00:00, 25.95it/s]\n"
     ]
    },
    {
     "data": {
      "text/html": [
       "<pre style=\"white-space:pre;overflow-x:auto;line-height:normal;font-family:Menlo,'DejaVu Sans Mono',consolas,'Courier New',monospace\">┏━━━━━━━━━━━━━━━━━━━━━━━━━━━┳━━━━━━━━━━━━━━━━━━━━━━━━━━━┓\n",
       "┃<span style=\"font-weight: bold\">        Test metric        </span>┃<span style=\"font-weight: bold\">       DataLoader 0        </span>┃\n",
       "┡━━━━━━━━━━━━━━━━━━━━━━━━━━━╇━━━━━━━━━━━━━━━━━━━━━━━━━━━┩\n",
       "│<span style=\"color: #008080; text-decoration-color: #008080\">         test_acc          </span>│<span style=\"color: #800080; text-decoration-color: #800080\">   0.019657257944345474    </span>│\n",
       "│<span style=\"color: #008080; text-decoration-color: #008080\">         test_loss         </span>│<span style=\"color: #800080; text-decoration-color: #800080\">    3.7022695541381836     </span>│\n",
       "└───────────────────────────┴───────────────────────────┘\n",
       "</pre>\n"
      ],
      "text/plain": [
       "┏━━━━━━━━━━━━━━━━━━━━━━━━━━━┳━━━━━━━━━━━━━━━━━━━━━━━━━━━┓\n",
       "┃\u001b[1m \u001b[0m\u001b[1m       Test metric       \u001b[0m\u001b[1m \u001b[0m┃\u001b[1m \u001b[0m\u001b[1m      DataLoader 0       \u001b[0m\u001b[1m \u001b[0m┃\n",
       "┡━━━━━━━━━━━━━━━━━━━━━━━━━━━╇━━━━━━━━━━━━━━━━━━━━━━━━━━━┩\n",
       "│\u001b[36m \u001b[0m\u001b[36m        test_acc         \u001b[0m\u001b[36m \u001b[0m│\u001b[35m \u001b[0m\u001b[35m  0.019657257944345474   \u001b[0m\u001b[35m \u001b[0m│\n",
       "│\u001b[36m \u001b[0m\u001b[36m        test_loss        \u001b[0m\u001b[36m \u001b[0m│\u001b[35m \u001b[0m\u001b[35m   3.7022695541381836    \u001b[0m\u001b[35m \u001b[0m│\n",
       "└───────────────────────────┴───────────────────────────┘\n"
      ]
     },
     "metadata": {},
     "output_type": "display_data"
    },
    {
     "data": {
      "text/plain": [
       "[{'test_loss': 3.7022695541381836, 'test_acc': 0.019657257944345474}]"
      ]
     },
     "execution_count": 118,
     "metadata": {},
     "output_type": "execute_result"
    }
   ],
   "source": [
    "trainer.test(model, dataloaders=loaders[\"test\"])"
   ]
  }
 ],
 "metadata": {
  "kernelspec": {
   "display_name": "neuroimagen",
   "language": "python",
   "name": "python3"
  },
  "language_info": {
   "codemirror_mode": {
    "name": "ipython",
    "version": 3
   },
   "file_extension": ".py",
   "mimetype": "text/x-python",
   "name": "python",
   "nbconvert_exporter": "python",
   "pygments_lexer": "ipython3",
   "version": "3.11.5"
  }
 },
 "nbformat": 4,
 "nbformat_minor": 2
}
